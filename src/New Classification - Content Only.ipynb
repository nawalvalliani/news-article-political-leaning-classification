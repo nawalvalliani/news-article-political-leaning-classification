{
 "cells": [
  {
   "cell_type": "code",
   "execution_count": 1,
   "id": "automated-throat",
   "metadata": {},
   "outputs": [],
   "source": [
    "import pandas as pd\n",
    "import os\n",
    "import matplotlib.pyplot as plt\n",
    "import numpy as np\n",
    "import pickle\n",
    "import copy\n",
    "import random\n",
    "from functions import *\n",
    "import seaborn as sns\n",
    "\n",
    "metrics_dict = {}"
   ]
  },
  {
   "cell_type": "markdown",
   "id": "recorded-binary",
   "metadata": {},
   "source": [
    "# Import"
   ]
  },
  {
   "cell_type": "markdown",
   "id": "theoretical-aside",
   "metadata": {},
   "source": [
    "The data from the EDA is imported and cleaned up a bit. The classification task that will be attempted is a binary classification task (Left vs. Right classified news articles). As such, the \"Middle\" category explored in the EDA is replaced with \"Left,\" as the only middle publisher (Associated Press) is slightly left-leaning, strictly speaking according to the bias scores:"
   ]
  },
  {
   "cell_type": "code",
   "execution_count": 2,
   "id": "traditional-hamburg",
   "metadata": {},
   "outputs": [],
   "source": [
    "dframe = pd.read_csv(\"news_dataset_EDA.csv\")\n",
    "\n",
    "dframe[\"Leaning\"] = dframe[\"Leaning\"].map({\"Middle\" : \"Left\",\n",
    "                                           \"Left\": \"Left\",\n",
    "                                           \"Right\": \"Right\"})\n",
    "\n",
    "dframe.drop(\"Leaning Encode\", axis=1, inplace=True)"
   ]
  },
  {
   "cell_type": "markdown",
   "id": "stone-calcium",
   "metadata": {},
   "source": [
    "All data is re-encoded:"
   ]
  },
  {
   "cell_type": "code",
   "execution_count": 3,
   "id": "bigger-penguin",
   "metadata": {},
   "outputs": [],
   "source": [
    "encode = []\n",
    "\n",
    "for i in range(dframe.shape[0]):\n",
    "    lean = dframe[\"Leaning\"].iloc[i]\n",
    "    if lean == \"Left\":\n",
    "        encode.append(0)\n",
    "    elif lean == \"Right\":\n",
    "        encode.append(1)\n",
    "\n",
    "dframe[\"Leaning Encode\"] = pd.Series(encode)"
   ]
  },
  {
   "cell_type": "markdown",
   "id": "distant-ghost",
   "metadata": {},
   "source": [
    "Examining the data to ensure the encoding was done properly:"
   ]
  },
  {
   "cell_type": "code",
   "execution_count": 4,
   "id": "instructional-cement",
   "metadata": {},
   "outputs": [
    {
     "data": {
      "text/html": [
       "<div>\n",
       "<style scoped>\n",
       "    .dataframe tbody tr th:only-of-type {\n",
       "        vertical-align: middle;\n",
       "    }\n",
       "\n",
       "    .dataframe tbody tr th {\n",
       "        vertical-align: top;\n",
       "    }\n",
       "\n",
       "    .dataframe thead th {\n",
       "        text-align: right;\n",
       "    }\n",
       "</style>\n",
       "<table border=\"1\" class=\"dataframe\">\n",
       "  <thead>\n",
       "    <tr style=\"text-align: right;\">\n",
       "      <th></th>\n",
       "      <th>Source</th>\n",
       "      <th>Headline</th>\n",
       "      <th>Content</th>\n",
       "      <th>Date</th>\n",
       "      <th>Leaning</th>\n",
       "      <th>Headline Length</th>\n",
       "      <th>Content Length</th>\n",
       "      <th>Normalized Headline</th>\n",
       "      <th>Normalized Content</th>\n",
       "      <th>LDA_topics</th>\n",
       "      <th>NMF_topics</th>\n",
       "      <th>Headline Polarity</th>\n",
       "      <th>Content Polarity</th>\n",
       "      <th>Leaning Encode</th>\n",
       "    </tr>\n",
       "  </thead>\n",
       "  <tbody>\n",
       "    <tr>\n",
       "      <th>0</th>\n",
       "      <td>Associated Press</td>\n",
       "      <td>For Nebraska Rep. Fortenberry, a two-sided cha...</td>\n",
       "      <td>LINCOLN, Neb.  -- When he seeks office again i...</td>\n",
       "      <td>11/15/21</td>\n",
       "      <td>Left</td>\n",
       "      <td>9</td>\n",
       "      <td>817</td>\n",
       "      <td>nebraska rep fortenberry two sided challenge 2022</td>\n",
       "      <td>lincoln neb seek office 2022 u rep jeff forten...</td>\n",
       "      <td>House/Senate</td>\n",
       "      <td>Trump</td>\n",
       "      <td>0.000000</td>\n",
       "      <td>0.072480</td>\n",
       "      <td>0</td>\n",
       "    </tr>\n",
       "    <tr>\n",
       "      <th>1</th>\n",
       "      <td>Associated Press</td>\n",
       "      <td>Former New Orleans mayor Landrieu to manage Bi...</td>\n",
       "      <td>WASHINGTON  -- President Joe Biden has chosen ...</td>\n",
       "      <td>11/15/21</td>\n",
       "      <td>Left</td>\n",
       "      <td>10</td>\n",
       "      <td>295</td>\n",
       "      <td>former new orleans mayor landrieu manage biden...</td>\n",
       "      <td>washington president joe biden chosen supervis...</td>\n",
       "      <td>Inflation/Infrustructure</td>\n",
       "      <td>Inflation/Infrastructure</td>\n",
       "      <td>0.068182</td>\n",
       "      <td>0.115488</td>\n",
       "      <td>0</td>\n",
       "    </tr>\n",
       "    <tr>\n",
       "      <th>2</th>\n",
       "      <td>Associated Press</td>\n",
       "      <td>Alzheimer's drug cited as Medicare premium jum...</td>\n",
       "      <td>WASHINGTON  -- Medicare's \"Part B\" outpatient ...</td>\n",
       "      <td>11/15/21</td>\n",
       "      <td>Left</td>\n",
       "      <td>9</td>\n",
       "      <td>739</td>\n",
       "      <td>alzheimers drug cited medicare premium jump 2160</td>\n",
       "      <td>washington medicare part b outpatient premium ...</td>\n",
       "      <td>Inflation/Infrustructure</td>\n",
       "      <td>Inflation/Infrastructure</td>\n",
       "      <td>0.000000</td>\n",
       "      <td>0.031020</td>\n",
       "      <td>0</td>\n",
       "    </tr>\n",
       "    <tr>\n",
       "      <th>3</th>\n",
       "      <td>Associated Press</td>\n",
       "      <td>Buttigieg's star rises as $1T Biden agenda shi...</td>\n",
       "      <td>WASHINGTON  -- Pete Buttigieg, the transportat...</td>\n",
       "      <td>11/15/21</td>\n",
       "      <td>Left</td>\n",
       "      <td>10</td>\n",
       "      <td>1212</td>\n",
       "      <td>buttigiegs star rise 1t biden agenda shift toward</td>\n",
       "      <td>washington pete buttigieg transportation secre...</td>\n",
       "      <td>Inflation/Infrustructure</td>\n",
       "      <td>Inflation/Infrastructure</td>\n",
       "      <td>0.000000</td>\n",
       "      <td>0.147375</td>\n",
       "      <td>0</td>\n",
       "    </tr>\n",
       "    <tr>\n",
       "      <th>4</th>\n",
       "      <td>Associated Press</td>\n",
       "      <td>Inside DNC chair's 'challenging' bid to avert ...</td>\n",
       "      <td>He's not particularly close to the White House...</td>\n",
       "      <td>11/15/21</td>\n",
       "      <td>Left</td>\n",
       "      <td>9</td>\n",
       "      <td>2019</td>\n",
       "      <td>inside dnc chair challenging bid avert midterm...</td>\n",
       "      <td>he particularly close white house he never sta...</td>\n",
       "      <td>House/Senate</td>\n",
       "      <td>Trump</td>\n",
       "      <td>0.500000</td>\n",
       "      <td>0.055720</td>\n",
       "      <td>0</td>\n",
       "    </tr>\n",
       "  </tbody>\n",
       "</table>\n",
       "</div>"
      ],
      "text/plain": [
       "             Source                                           Headline  \\\n",
       "0  Associated Press  For Nebraska Rep. Fortenberry, a two-sided cha...   \n",
       "1  Associated Press  Former New Orleans mayor Landrieu to manage Bi...   \n",
       "2  Associated Press  Alzheimer's drug cited as Medicare premium jum...   \n",
       "3  Associated Press  Buttigieg's star rises as $1T Biden agenda shi...   \n",
       "4  Associated Press  Inside DNC chair's 'challenging' bid to avert ...   \n",
       "\n",
       "                                             Content      Date Leaning  \\\n",
       "0  LINCOLN, Neb.  -- When he seeks office again i...  11/15/21    Left   \n",
       "1  WASHINGTON  -- President Joe Biden has chosen ...  11/15/21    Left   \n",
       "2  WASHINGTON  -- Medicare's \"Part B\" outpatient ...  11/15/21    Left   \n",
       "3  WASHINGTON  -- Pete Buttigieg, the transportat...  11/15/21    Left   \n",
       "4  He's not particularly close to the White House...  11/15/21    Left   \n",
       "\n",
       "   Headline Length  Content Length  \\\n",
       "0                9             817   \n",
       "1               10             295   \n",
       "2                9             739   \n",
       "3               10            1212   \n",
       "4                9            2019   \n",
       "\n",
       "                                 Normalized Headline  \\\n",
       "0  nebraska rep fortenberry two sided challenge 2022   \n",
       "1  former new orleans mayor landrieu manage biden...   \n",
       "2   alzheimers drug cited medicare premium jump 2160   \n",
       "3  buttigiegs star rise 1t biden agenda shift toward   \n",
       "4  inside dnc chair challenging bid avert midterm...   \n",
       "\n",
       "                                  Normalized Content  \\\n",
       "0  lincoln neb seek office 2022 u rep jeff forten...   \n",
       "1  washington president joe biden chosen supervis...   \n",
       "2  washington medicare part b outpatient premium ...   \n",
       "3  washington pete buttigieg transportation secre...   \n",
       "4  he particularly close white house he never sta...   \n",
       "\n",
       "                 LDA_topics                NMF_topics  Headline Polarity  \\\n",
       "0              House/Senate                     Trump           0.000000   \n",
       "1  Inflation/Infrustructure  Inflation/Infrastructure           0.068182   \n",
       "2  Inflation/Infrustructure  Inflation/Infrastructure           0.000000   \n",
       "3  Inflation/Infrustructure  Inflation/Infrastructure           0.000000   \n",
       "4              House/Senate                     Trump           0.500000   \n",
       "\n",
       "   Content Polarity  Leaning Encode  \n",
       "0          0.072480               0  \n",
       "1          0.115488               0  \n",
       "2          0.031020               0  \n",
       "3          0.147375               0  \n",
       "4          0.055720               0  "
      ]
     },
     "execution_count": 4,
     "metadata": {},
     "output_type": "execute_result"
    }
   ],
   "source": [
    "dframe.head()"
   ]
  },
  {
   "cell_type": "markdown",
   "id": "defensive-commander",
   "metadata": {},
   "source": [
    "Any null data are removed:"
   ]
  },
  {
   "cell_type": "code",
   "execution_count": 5,
   "id": "realistic-present",
   "metadata": {},
   "outputs": [],
   "source": [
    "dframe = dframe.dropna()"
   ]
  },
  {
   "cell_type": "code",
   "execution_count": 6,
   "id": "inappropriate-fellow",
   "metadata": {},
   "outputs": [
    {
     "name": "stdout",
     "output_type": "stream",
     "text": [
      "<class 'pandas.core.frame.DataFrame'>\n",
      "Int64Index: 1493 entries, 0 to 1493\n",
      "Data columns (total 14 columns):\n",
      " #   Column               Non-Null Count  Dtype  \n",
      "---  ------               --------------  -----  \n",
      " 0   Source               1493 non-null   object \n",
      " 1   Headline             1493 non-null   object \n",
      " 2   Content              1493 non-null   object \n",
      " 3   Date                 1493 non-null   object \n",
      " 4   Leaning              1493 non-null   object \n",
      " 5   Headline Length      1493 non-null   int64  \n",
      " 6   Content Length       1493 non-null   int64  \n",
      " 7   Normalized Headline  1493 non-null   object \n",
      " 8   Normalized Content   1493 non-null   object \n",
      " 9   LDA_topics           1493 non-null   object \n",
      " 10  NMF_topics           1493 non-null   object \n",
      " 11  Headline Polarity    1493 non-null   float64\n",
      " 12  Content Polarity     1493 non-null   float64\n",
      " 13  Leaning Encode       1493 non-null   int64  \n",
      "dtypes: float64(2), int64(3), object(9)\n",
      "memory usage: 175.0+ KB\n"
     ]
    }
   ],
   "source": [
    "dframe.info()"
   ]
  },
  {
   "cell_type": "markdown",
   "id": "immediate-accident",
   "metadata": {},
   "source": [
    "A DeepCopy of the data is made for later use in 5-Fold Cross Validation."
   ]
  },
  {
   "cell_type": "code",
   "execution_count": 7,
   "id": "simplified-thinking",
   "metadata": {},
   "outputs": [],
   "source": [
    "df = copy.deepcopy(dframe)"
   ]
  },
  {
   "cell_type": "markdown",
   "id": "proud-cardiff",
   "metadata": {},
   "source": [
    "# Machine Learning Models"
   ]
  },
  {
   "cell_type": "code",
   "execution_count": 8,
   "id": "medieval-small",
   "metadata": {},
   "outputs": [],
   "source": [
    "from sklearn.neighbors import KNeighborsClassifier\n",
    "from sklearn.linear_model import LogisticRegression\n",
    "from sklearn import svm\n",
    "from sklearn import tree\n",
    "from sklearn.ensemble import RandomForestClassifier"
   ]
  },
  {
   "cell_type": "markdown",
   "id": "sensitive-pharmacology",
   "metadata": {},
   "source": [
    "Several machine learning models are explored for this project:\n",
    "\n",
    "&bull; k-Nearest Neighbors <br>\n",
    "&bull; Logistic Regression <br>\n",
    "&bull; Support Vector Machines (with different kernels) <br>\n",
    "&bull; Decision Trees <br>\n",
    "&bull; Random Forest <br>\n",
    "\n",
    "For a classifier to be \"good\" and providing acceptable classifications, it must outperform some basic baseline models. The baseline models explored herein are the Majority Vote classifier and the Coin Flip classifier. Both are discussed in the following sections."
   ]
  },
  {
   "cell_type": "markdown",
   "id": "moderate-customer",
   "metadata": {},
   "source": [
    "## Test/Train Split and TF-IDF Vectorization"
   ]
  },
  {
   "cell_type": "markdown",
   "id": "decreased-visiting",
   "metadata": {},
   "source": [
    "The total data is split into a test set and a train set. A test set size of 0.25 is used:"
   ]
  },
  {
   "cell_type": "code",
   "execution_count": 9,
   "id": "textile-discount",
   "metadata": {},
   "outputs": [],
   "source": [
    "shuffled, test_data, y_test, train_data, y_train, test_df, train_df = test_train_split(dframe, test_size=0.25, content=True, random_state=19960402)"
   ]
  },
  {
   "cell_type": "markdown",
   "id": "exterior-finance",
   "metadata": {},
   "source": [
    "Both train and test documents are vectorized (TF-IDF vectorization) using the available funcitons from scikit-learn:"
   ]
  },
  {
   "cell_type": "code",
   "execution_count": 10,
   "id": "closed-seeker",
   "metadata": {},
   "outputs": [],
   "source": [
    "train_features = tfidfvectorizer.fit_transform(train_data).toarray()\n",
    "test_features = tfidfvectorizer.transform(test_data).toarray()"
   ]
  },
  {
   "cell_type": "markdown",
   "id": "sustained-egypt",
   "metadata": {},
   "source": [
    "## Baseline Models"
   ]
  },
  {
   "cell_type": "markdown",
   "id": "short-woman",
   "metadata": {},
   "source": [
    "Simple baseline models are selected to compare ML model results against in order to determine if ML models can actually better predict the data. For example, if an ML model has an accuracy of 30%, how can one say that it is better than simply picking classification label at random? Or, how can one say that it is better than simply classifying each point in the test set as the majority class from the train set?"
   ]
  },
  {
   "cell_type": "markdown",
   "id": "racial-acrobat",
   "metadata": {},
   "source": [
    "### Majority Vote Classifier"
   ]
  },
  {
   "cell_type": "markdown",
   "id": "abstract-stations",
   "metadata": {},
   "source": [
    "The majority vote classifier is very straightforward. From the train data, the majority class is determined. Then, for each point in the test data, that same majority class is predicted:"
   ]
  },
  {
   "cell_type": "code",
   "execution_count": 11,
   "id": "regulation-profit",
   "metadata": {},
   "outputs": [
    {
     "data": {
      "text/plain": [
       "1    598\n",
       "0    522\n",
       "Name: Leaning Encode, dtype: int64"
      ]
     },
     "execution_count": 11,
     "metadata": {},
     "output_type": "execute_result"
    }
   ],
   "source": [
    "train_df[\"Leaning Encode\"].value_counts()"
   ]
  },
  {
   "cell_type": "markdown",
   "id": "optimum-hungary",
   "metadata": {},
   "source": [
    "In this specifc test/train split, the majority class in the train set is 1, or right-leaning articles. For each point in the test set, the prediction is 1."
   ]
  },
  {
   "cell_type": "code",
   "execution_count": 12,
   "id": "mighty-mouth",
   "metadata": {},
   "outputs": [],
   "source": [
    "majority = train_df[\"Leaning Encode\"].value_counts().sort_index(ascending=False).index[0]\n",
    "y_pred = [majority]*test_df.shape[0]"
   ]
  },
  {
   "cell_type": "code",
   "execution_count": 13,
   "id": "final-sucking",
   "metadata": {},
   "outputs": [
    {
     "name": "stdout",
     "output_type": "stream",
     "text": [
      "Accuracy:  0.5335120643431636\n",
      "Precision:  0.5335120643431636\n",
      "Recall:  1.0\n",
      "F1:  0.6958041958041957\n"
     ]
    },
    {
     "data": {
      "image/png": "[encoded data removed]",
      "text/plain": [
       "<Figure size 432x288 with 2 Axes>"
      ]
     },
     "metadata": {
      "needs_background": "light"
     },
     "output_type": "display_data"
    }
   ],
   "source": [
    "present_metrics(y_test, y_pred)\n",
    "present_cfm(y_test, y_pred, title=\"Majority Vote Confusion Matrix\")"
   ]
  },
  {
   "cell_type": "markdown",
   "id": "impaired-harrison",
   "metadata": {},
   "source": [
    "Clearly, this approach is rudimentary at best; however, the key point is that it achieves an accuracy and precision greater than 50%. This baseline metric is important to compare to against ML models to substantiate that they are \"better\" than simple guesses."
   ]
  },
  {
   "cell_type": "markdown",
   "id": "saving-chance",
   "metadata": {},
   "source": [
    "#### 5-Fold Cross Validation"
   ]
  },
  {
   "cell_type": "markdown",
   "id": "square-booking",
   "metadata": {},
   "source": [
    "In 5-Fold Cross Validation, the total data is split into five folds. One fold is used as test data, while the remaining four folds are used as training data. This way, five different test/train splits are assessed and the average of the results provides a better look at the model's performance:"
   ]
  },
  {
   "cell_type": "code",
   "execution_count": 14,
   "id": "thick-syndicate",
   "metadata": {},
   "outputs": [],
   "source": [
    "metrics = baseline_cross_validation(df=df, fold_count=5, repetitions=1, random_state=99)"
   ]
  },
  {
   "cell_type": "code",
   "execution_count": 15,
   "id": "connected-asset",
   "metadata": {},
   "outputs": [
    {
     "name": "stdout",
     "output_type": "stream",
     "text": [
      "Mean Accuracy:  0.5338241565845885\n",
      "Mean Precision:  0.5338241565845885\n",
      "Mean Recall:  1.0\n",
      "Mean F1:  0.6960144333897447\n"
     ]
    }
   ],
   "source": [
    "print(\"Mean Accuracy: \", np.mean(metrics[0]))\n",
    "print(\"Mean Precision: \", np.mean(metrics[1]))\n",
    "print(\"Mean Recall: \", np.mean(metrics[2]))\n",
    "print(\"Mean F1: \", np.mean(metrics[3]))"
   ]
  },
  {
   "cell_type": "code",
   "execution_count": 16,
   "id": "federal-advance",
   "metadata": {},
   "outputs": [],
   "source": [
    "metrics_dict = metrics_dictionary(metrics_dict, \"majority\", metrics)"
   ]
  },
  {
   "cell_type": "markdown",
   "id": "extended-nelson",
   "metadata": {},
   "source": [
    "The majority vote classifier performance is just about 53%, looking at accuracy and precision solely."
   ]
  },
  {
   "cell_type": "markdown",
   "id": "superior-drain",
   "metadata": {},
   "source": [
    "### Coin Flip"
   ]
  },
  {
   "cell_type": "markdown",
   "id": "european-bulletin",
   "metadata": {},
   "source": [
    "The Coin Flip is another simple predictor model. Random numbers, either 0 or 1 (the leaning encodings), are generated from a uniform distribution and used as predictions for the test set:"
   ]
  },
  {
   "cell_type": "code",
   "execution_count": 17,
   "id": "optional-meditation",
   "metadata": {},
   "outputs": [],
   "source": [
    "np.random.seed(500)\n",
    "y_pred = np.random.randint(low=0, high=2, size=test_df.shape[0])"
   ]
  },
  {
   "cell_type": "code",
   "execution_count": 18,
   "id": "laden-secretary",
   "metadata": {},
   "outputs": [
    {
     "name": "stdout",
     "output_type": "stream",
     "text": [
      "Accuracy:  0.49865951742627346\n",
      "Precision:  0.531578947368421\n",
      "Recall:  0.507537688442211\n",
      "F1:  0.519280205655527\n"
     ]
    },
    {
     "data": {
      "image/png": "[encoded data removed]",
      "text/plain": [
       "<Figure size 432x288 with 2 Axes>"
      ]
     },
     "metadata": {
      "needs_background": "light"
     },
     "output_type": "display_data"
    }
   ],
   "source": [
    "present_metrics(y_test, y_pred)\n",
    "present_cfm(y_test, y_pred, title=\"Coin Flip Confusion Matrix\")"
   ]
  },
  {
   "cell_type": "markdown",
   "id": "packed-minority",
   "metadata": {},
   "source": [
    "All metrics are roughly 50%. No 5-fold cross validation is performed here as since the numbers are randomly generated from a uniform distribution, the metrics will be just about 50%."
   ]
  },
  {
   "cell_type": "markdown",
   "id": "leading-utility",
   "metadata": {},
   "source": [
    "### k-Nearest Neighbors"
   ]
  },
  {
   "cell_type": "markdown",
   "id": "crucial-gospel",
   "metadata": {},
   "source": [
    "The first ML algorithm explored is k-Nearest Neighbors (kNN). This is a fairly simple \"machine learning\" algorithm, but it may prove useful."
   ]
  },
  {
   "cell_type": "markdown",
   "id": "serious-triumph",
   "metadata": {},
   "source": [
    "#### Validation Curve"
   ]
  },
  {
   "cell_type": "markdown",
   "id": "graduate-lodging",
   "metadata": {},
   "source": [
    "A validation curve is used to determine the best value for `k`, the neighborhood size. Values for `k` are varied from 1 to 20:"
   ]
  },
  {
   "cell_type": "code",
   "execution_count": 19,
   "id": "controlled-nirvana",
   "metadata": {},
   "outputs": [],
   "source": [
    "ks, accs, precs, recs, f1s = knn_validation_curve(train_features, test_features, y_train, y_test)"
   ]
  },
  {
   "cell_type": "code",
   "execution_count": 20,
   "id": "distinguished-silver",
   "metadata": {},
   "outputs": [
    {
     "data": {
      "image/png": "[encoded data removed]",
      "text/plain": [
       "<Figure size 720x432 with 1 Axes>"
      ]
     },
     "metadata": {
      "needs_background": "light"
     },
     "output_type": "display_data"
    }
   ],
   "source": [
    "xs = ks\n",
    "figure = plt.figure(figsize=(10,6))\n",
    "axes = figure.add_subplot(1, 1, 1)\n",
    "axes.plot(xs, accs, \"o-\", color=\"firebrick\", alpha=0.75, label = \"Accuracy\")\n",
    "axes.plot(xs, precs, \"o-\", color=\"cornflowerblue\", alpha=0.75, label = \"Precision\")\n",
    "axes.plot(xs, recs, \"o-\", color=\"black\", alpha=0.75, label = \"Recall\")\n",
    "axes.plot(xs, f1s, \"o-\", color=\"lime\", alpha=0.75, label = \"F1\")\n",
    "axes.set_title(\"kNN Validation Curve\")\n",
    "axes.set_xlabel(\"k\")\n",
    "axes.set_ylabel(\"Value\")\n",
    "axes.legend()\n",
    "plt.xticks(xs)\n",
    "plt.grid(b=True, which=\"both\")\n",
    "plt.show()"
   ]
  },
  {
   "cell_type": "markdown",
   "id": "acknowledged-eagle",
   "metadata": {},
   "source": [
    "The size of the neighborhood as an appreciable effect on all the classificaiton metrics. From personal experience, although it appears that a value of `k = 2` is best from a precision standpoint, `k` will be set to 1:"
   ]
  },
  {
   "cell_type": "markdown",
   "id": "functioning-convertible",
   "metadata": {},
   "source": [
    "#### 5-Fold Cross Validation"
   ]
  },
  {
   "cell_type": "code",
   "execution_count": 21,
   "id": "median-ecology",
   "metadata": {},
   "outputs": [],
   "source": [
    "clf = KNeighborsClassifier(n_neighbors=1)\n",
    "metrics = kfold_cross_validation(clf=clf, df=df, fold_count=5, repetitions=1, headline=False, content=True, random_state=400)"
   ]
  },
  {
   "cell_type": "code",
   "execution_count": 22,
   "id": "mineral-journalism",
   "metadata": {},
   "outputs": [
    {
     "name": "stdout",
     "output_type": "stream",
     "text": [
      "Mean Accuracy:  0.9410406051491549\n",
      "Mean Precision:  0.9571394287883148\n",
      "Mean Recall:  0.9332313208370463\n",
      "Mean F1:  0.944150228092121\n"
     ]
    }
   ],
   "source": [
    "print(\"Mean Accuracy: \", np.mean(metrics[0]))\n",
    "print(\"Mean Precision: \", np.mean(metrics[1]))\n",
    "print(\"Mean Recall: \", np.mean(metrics[2]))\n",
    "print(\"Mean F1: \", np.mean(metrics[3]))"
   ]
  },
  {
   "cell_type": "code",
   "execution_count": 23,
   "id": "different-telephone",
   "metadata": {},
   "outputs": [],
   "source": [
    "metrics_dict = metrics_dictionary(metrics_dict, \"knn\", metrics)"
   ]
  },
  {
   "cell_type": "markdown",
   "id": "lightweight-hepatitis",
   "metadata": {},
   "source": [
    "The average metrics above show a vast improvement over the one test/train split shown previously."
   ]
  },
  {
   "cell_type": "markdown",
   "id": "balanced-sector",
   "metadata": {},
   "source": [
    "### Logistic Regression"
   ]
  },
  {
   "cell_type": "code",
   "execution_count": 24,
   "id": "authentic-publisher",
   "metadata": {},
   "outputs": [],
   "source": [
    "clf = LogisticRegression(random_state=42)\n",
    "metrics = kfold_cross_validation(clf=clf,df=df, fold_count=5, repetitions=1, headline=False, content=True, random_state=400)"
   ]
  },
  {
   "cell_type": "code",
   "execution_count": 25,
   "id": "massive-candle",
   "metadata": {},
   "outputs": [
    {
     "name": "stdout",
     "output_type": "stream",
     "text": [
      "Mean Accuracy:  0.9290049606069448\n",
      "Mean Precision:  0.9285053383988592\n",
      "Mean Recall:  0.9441540025795068\n",
      "Mean F1:  0.9343547147551827\n"
     ]
    }
   ],
   "source": [
    "print(\"Mean Accuracy: \", np.mean(metrics[0]))\n",
    "print(\"Mean Precision: \", np.mean(metrics[1]))\n",
    "print(\"Mean Recall: \", np.mean(metrics[2]))\n",
    "print(\"Mean F1: \", np.mean(metrics[3]))"
   ]
  },
  {
   "cell_type": "code",
   "execution_count": 26,
   "id": "criminal-noise",
   "metadata": {},
   "outputs": [],
   "source": [
    "metrics_dict = metrics_dictionary(metrics_dict, \"logreg\", metrics)"
   ]
  },
  {
   "cell_type": "markdown",
   "id": "based-enlargement",
   "metadata": {},
   "source": [
    "### Support Vector Machine"
   ]
  },
  {
   "cell_type": "markdown",
   "id": "linear-laser",
   "metadata": {},
   "source": [
    "#### RBF Kernel"
   ]
  },
  {
   "cell_type": "code",
   "execution_count": 27,
   "id": "smooth-enhancement",
   "metadata": {},
   "outputs": [
    {
     "name": "stdout",
     "output_type": "stream",
     "text": [
      "Mean Accuracy:  0.9611501425332765\n",
      "Mean Precision:  0.9612979795793717\n",
      "Mean Recall:  0.9684794494163395\n",
      "Mean F1:  0.964002900610651\n"
     ]
    }
   ],
   "source": [
    "clf = svm.SVC(kernel=\"rbf\")\n",
    "metrics = kfold_cross_validation(clf=clf,df=df, fold_count=5, repetitions=1, headline=False, content=True, random_state=400)\n",
    "\n",
    "print(\"Mean Accuracy: \", np.mean(metrics[0]))\n",
    "print(\"Mean Precision: \", np.mean(metrics[1]))\n",
    "print(\"Mean Recall: \", np.mean(metrics[2]))\n",
    "print(\"Mean F1: \", np.mean(metrics[3]))\n",
    "\n",
    "metrics_dict = metrics_dictionary(metrics_dict, \"svm_rbf\", metrics)"
   ]
  },
  {
   "cell_type": "markdown",
   "id": "parliamentary-daisy",
   "metadata": {},
   "source": [
    "#### Linear Kernel"
   ]
  },
  {
   "cell_type": "code",
   "execution_count": 28,
   "id": "celtic-thailand",
   "metadata": {},
   "outputs": [
    {
     "name": "stdout",
     "output_type": "stream",
     "text": [
      "Mean Accuracy:  0.9671746986599628\n",
      "Mean Precision:  0.9728545964607449\n",
      "Mean Recall:  0.967173208487457\n",
      "Mean F1:  0.9694372811974947\n"
     ]
    }
   ],
   "source": [
    "clf = svm.SVC(kernel=\"linear\")\n",
    "metrics = kfold_cross_validation(clf=clf,df=df, fold_count=5, repetitions=1, headline=False, content=True, random_state=400)\n",
    "\n",
    "print(\"Mean Accuracy: \", np.mean(metrics[0]))\n",
    "print(\"Mean Precision: \", np.mean(metrics[1]))\n",
    "print(\"Mean Recall: \", np.mean(metrics[2]))\n",
    "print(\"Mean F1: \", np.mean(metrics[3]))\n",
    "\n",
    "metrics_dict = metrics_dictionary(metrics_dict, \"svm_linear\", metrics)"
   ]
  },
  {
   "cell_type": "markdown",
   "id": "exclusive-magic",
   "metadata": {},
   "source": [
    "#### Sigmoid Kernel"
   ]
  },
  {
   "cell_type": "code",
   "execution_count": 29,
   "id": "elect-equity",
   "metadata": {},
   "outputs": [
    {
     "name": "stdout",
     "output_type": "stream",
     "text": [
      "Mean Accuracy:  0.9544454669928845\n",
      "Mean Precision:  0.9638356536203864\n",
      "Mean Recall:  0.9524093126565475\n",
      "Mean F1:  0.9573291560761594\n"
     ]
    }
   ],
   "source": [
    "clf = svm.SVC(kernel=\"sigmoid\")\n",
    "metrics = kfold_cross_validation(clf=clf,df=df, fold_count=5, repetitions=1, headline=False, content=True, random_state=400)\n",
    "\n",
    "print(\"Mean Accuracy: \", np.mean(metrics[0]))\n",
    "print(\"Mean Precision: \", np.mean(metrics[1]))\n",
    "print(\"Mean Recall: \", np.mean(metrics[2]))\n",
    "print(\"Mean F1: \", np.mean(metrics[3]))\n",
    "\n",
    "metrics_dict = metrics_dictionary(metrics_dict, \"svm_sigmoid\", metrics)"
   ]
  },
  {
   "cell_type": "markdown",
   "id": "chemical-trailer",
   "metadata": {},
   "source": [
    "#### Poly = 3 Kernel"
   ]
  },
  {
   "cell_type": "code",
   "execution_count": 30,
   "id": "bacterial-sitting",
   "metadata": {},
   "outputs": [
    {
     "name": "stdout",
     "output_type": "stream",
     "text": [
      "Mean Accuracy:  0.9256380328163228\n",
      "Mean Precision:  0.9238034982467129\n",
      "Mean Recall:  0.9491394422103596\n",
      "Mean F1:  0.9319714691226532\n"
     ]
    }
   ],
   "source": [
    "clf = svm.SVC(kernel=\"poly\", degree=3)\n",
    "metrics = kfold_cross_validation(clf=clf,df=df, fold_count=5, repetitions=1, headline=False, content=True, random_state=400)\n",
    "\n",
    "print(\"Mean Accuracy: \", np.mean(metrics[0]))\n",
    "print(\"Mean Precision: \", np.mean(metrics[1]))\n",
    "print(\"Mean Recall: \", np.mean(metrics[2]))\n",
    "print(\"Mean F1: \", np.mean(metrics[3]))\n",
    "\n",
    "metrics_dict = metrics_dictionary(metrics_dict, \"svm_poly3\", metrics)"
   ]
  },
  {
   "cell_type": "markdown",
   "id": "mysterious-chamber",
   "metadata": {},
   "source": [
    "#### Poly = 5 Kernel"
   ]
  },
  {
   "cell_type": "code",
   "execution_count": 31,
   "id": "monetary-objective",
   "metadata": {},
   "outputs": [
    {
     "name": "stdout",
     "output_type": "stream",
     "text": [
      "Mean Accuracy:  0.8961504792260555\n",
      "Mean Precision:  0.8893377722767596\n",
      "Mean Recall:  0.9383749193768713\n",
      "Mean F1:  0.904905551347742\n"
     ]
    }
   ],
   "source": [
    "clf = svm.SVC(kernel=\"poly\", degree=5)\n",
    "metrics = kfold_cross_validation(clf=clf,df=df, fold_count=5, repetitions=1, headline=False, content=True, random_state=400)\n",
    "\n",
    "print(\"Mean Accuracy: \", np.mean(metrics[0]))\n",
    "print(\"Mean Precision: \", np.mean(metrics[1]))\n",
    "print(\"Mean Recall: \", np.mean(metrics[2]))\n",
    "print(\"Mean F1: \", np.mean(metrics[3]))\n",
    "\n",
    "metrics_dict = metrics_dictionary(metrics_dict, \"svm_poly5\", metrics)"
   ]
  },
  {
   "cell_type": "markdown",
   "id": "blind-uniform",
   "metadata": {},
   "source": [
    "### Decision Tree"
   ]
  },
  {
   "cell_type": "code",
   "execution_count": 32,
   "id": "mineral-duncan",
   "metadata": {},
   "outputs": [
    {
     "name": "stdout",
     "output_type": "stream",
     "text": [
      "Mean Accuracy:  0.9691993445713901\n",
      "Mean Precision:  0.9725044781551861\n",
      "Mean Recall:  0.9699900836530635\n",
      "Mean F1:  0.9708928060721451\n"
     ]
    }
   ],
   "source": [
    "clf = tree.DecisionTreeClassifier(random_state=0)\n",
    "metrics = kfold_cross_validation(clf=clf,df=df, fold_count=5, repetitions=1, headline=False, content=True, random_state=400)\n",
    "\n",
    "print(\"Mean Accuracy: \", np.mean(metrics[0]))\n",
    "print(\"Mean Precision: \", np.mean(metrics[1]))\n",
    "print(\"Mean Recall: \", np.mean(metrics[2]))\n",
    "print(\"Mean F1: \", np.mean(metrics[3]))\n",
    "\n",
    "metrics_dict = metrics_dictionary(metrics_dict, \"dt\", metrics)"
   ]
  },
  {
   "cell_type": "markdown",
   "id": "logical-judge",
   "metadata": {},
   "source": [
    "### Random Forest"
   ]
  },
  {
   "cell_type": "code",
   "execution_count": 33,
   "id": "latter-drama",
   "metadata": {},
   "outputs": [
    {
     "name": "stdout",
     "output_type": "stream",
     "text": [
      "Mean Accuracy:  0.971872685237144\n",
      "Mean Precision:  0.9758043153744478\n",
      "Mean Recall:  0.9734815715622483\n",
      "Mean F1:  0.9739423637669591\n"
     ]
    }
   ],
   "source": [
    "clf = RandomForestClassifier(random_state=0)\n",
    "metrics = kfold_cross_validation(clf=clf,df=df, fold_count=5, repetitions=1, headline=False, content=True, random_state=400)\n",
    "\n",
    "print(\"Mean Accuracy: \", np.mean(metrics[0]))\n",
    "print(\"Mean Precision: \", np.mean(metrics[1]))\n",
    "print(\"Mean Recall: \", np.mean(metrics[2]))\n",
    "print(\"Mean F1: \", np.mean(metrics[3]))\n",
    "\n",
    "metrics_dict = metrics_dictionary(metrics_dict, \"rf\", metrics)"
   ]
  },
  {
   "cell_type": "markdown",
   "id": "introductory-accessory",
   "metadata": {},
   "source": [
    "# Model Metrics"
   ]
  },
  {
   "cell_type": "code",
   "execution_count": 35,
   "id": "wired-equality",
   "metadata": {},
   "outputs": [
    {
     "name": "stdout",
     "output_type": "stream",
     "text": [
      "Classification Metrics - Content Only - No Stemming\n",
      " Acc. Prec. Rec. F1\n",
      "majority 0.5338 0.5338 1.0000 0.6960\n",
      "knn 0.9410 0.9571 0.9332 0.9442\n",
      "logreg 0.9290 0.9285 0.9442 0.9344\n",
      "svm_rbf 0.9612 0.9613 0.9685 0.9640\n",
      "svm_linear 0.9672 0.9729 0.9672 0.9694\n",
      "svm_sigmoid 0.9544 0.9638 0.9524 0.9573\n",
      "svm_poly3 0.9256 0.9238 0.9491 0.9320\n",
      "svm_poly5 0.8962 0.8893 0.9384 0.9049\n",
      "dt 0.9692 0.9725 0.9700 0.9709\n",
      "rf 0.9719 0.9758 0.9735 0.9739\n"
     ]
    }
   ],
   "source": [
    "print(\"Classification Metrics - Content Only - No Stemming\")\n",
    "summarize_metrics(metrics_dict)"
   ]
  }
 ],
 "metadata": {
  "kernelspec": {
   "display_name": "Python 3",
   "language": "python",
   "name": "python3"
  },
  "language_info": {
   "codemirror_mode": {
    "name": "ipython",
    "version": 3
   },
   "file_extension": ".py",
   "mimetype": "text/x-python",
   "name": "python",
   "nbconvert_exporter": "python",
   "pygments_lexer": "ipython3",
   "version": "3.8.8"
  }
 },
 "nbformat": 4,
 "nbformat_minor": 5
}
